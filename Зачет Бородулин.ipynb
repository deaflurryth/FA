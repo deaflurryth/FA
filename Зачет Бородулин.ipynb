{
 "cells": [
  {
   "cell_type": "markdown",
   "metadata": {},
   "source": [
    "### Вариант 1"
   ]
  },
  {
   "cell_type": "markdown",
   "metadata": {},
   "source": [
    "2) Реализовать анонимную функцию: Создать список, в котором все отрицательные числа исходного списка заменены на их номер в списке, остальные элементы сохранены на своих местах.\n",
    "\n",
    "Пример: [2, 4, -2, -3, 0 , 11 , 3, -1] -> [2, 4, 3, 4, 0, 11, 3, 8]"
   ]
  },
  {
   "cell_type": "code",
   "execution_count": 18,
   "metadata": {},
   "outputs": [
    {
     "name": "stdout",
     "output_type": "stream",
     "text": [
      "[(2, 0), (4, 1), (2, 2), (3, 3), (0, 4), (11, 5), (3, 6), (1, 7)]\n",
      "[2, 4, -2, -3, 0, 11, 3, -1]\n",
      "[2, 4, 2, 3, 0, 11, 3, 1]\n"
     ]
    }
   ],
   "source": [
    "import random\n",
    "\n",
    "def back(first, second): return first * -second\n",
    "\n",
    "\n",
    "list_o= [2, 4, -2, -3, 0 , 11 , 3, -1]\n",
    "list_m= []\n",
    "for item in list_o:\n",
    "    if item> 0:\n",
    "        list_m.append(item)\n",
    "    elif item< 0:\n",
    "        list_m.append(back(item, 1))\n",
    "    else:\n",
    "        list_m.append(item)\n",
    "list_s= [(ex,ind) for ind, ex in enumerate(list_m)]\n",
    "\n",
    "print(list_s)\n",
    "print(list_o)\n",
    "print(list_m)\n",
    "        "
   ]
  },
  {
   "cell_type": "code",
   "execution_count": null,
   "metadata": {},
   "outputs": [],
   "source": [
    "anon= lambda first, second: first * secoond if x > 0 else return index\n",
    "list_o= [2, 4, -2, -3, 0 , 11 , 3, -1]\n",
    "list_m= []\n",
    "for item in list_o:\n",
    "    if item> 0:\n",
    "        list_m.append(item)\n",
    "    elif item< 0:\n",
    "        list_m.append(back(item, 1))\n",
    "    else:\n",
    "        list_m.append(item)\n",
    "print(list_o)\n",
    "print(list_m)"
   ]
  },
  {
   "cell_type": "code",
   "execution_count": 4,
   "metadata": {},
   "outputs": [
    {
     "name": "stdout",
     "output_type": "stream",
     "text": [
      "[2, 4, -2, -3, 0, 11, 3, -1]\n",
      "[2, 4, 2, 3, 0, 11, 3, 1]\n"
     ]
    }
   ],
   "source": [
    "listOrigin = [2, 4, -2, -3, 0 , 11 , 3, -1]\n",
    "listMask = []\n",
    "for item in listOrigin:\n",
    "    if item> 0:\n",
    "        listMask.append(item)\n",
    "    elif item< 0:\n",
    "        listMask.append(item* -1)\n",
    "    else:\n",
    "        listMask.append(item)\n",
    "\n",
    "print(listOrigin)\n",
    "print(listMask)"
   ]
  },
  {
   "cell_type": "markdown",
   "metadata": {},
   "source": [
    "3) Задача csv"
   ]
  },
  {
   "cell_type": "markdown",
   "metadata": {},
   "source": [
    "### Вариант 2"
   ]
  },
  {
   "cell_type": "markdown",
   "metadata": {},
   "source": [
    "2) Реализовать анонимную функцию armstrong_number, которая принимает число и проверяет является ли оно числом армстронга или нет.Числом Армстронга является число который равен сумме его цифр возведенных в степень их количества. Пример, 153 = 1^3 + 5^3 + 3^3"
   ]
  },
  {
   "cell_type": "markdown",
   "metadata": {},
   "source": [
    "3) Задача csv"
   ]
  },
  {
   "cell_type": "markdown",
   "metadata": {},
   "source": [
    "### Вариант 3"
   ]
  },
  {
   "cell_type": "markdown",
   "metadata": {},
   "source": [
    "2)Реализовать анонимную функцию: Даны числа N и M (задать их через переменные). С помощью генераторов в одну строку создать словарь, ключами в котором являются числа от 1 до N, а значениями - их степени от 0 до M. Например, для N=4, M=3 создать словарь:\n",
    "\n",
    "{1: [1, 1, 1, 1], 2: [1, 2, 4, 8], 3: [1, 3, 9, 27], 4: [1, 4, 16, 64]}"
   ]
  },
  {
   "cell_type": "markdown",
   "metadata": {},
   "source": [
    "3) Задача csv"
   ]
  },
  {
   "cell_type": "code",
   "execution_count": null,
   "metadata": {},
   "outputs": [],
   "source": []
  }
 ],
 "metadata": {
  "kernelspec": {
   "display_name": "Python 3",
   "language": "python",
   "name": "python3"
  },
  "language_info": {
   "codemirror_mode": {
    "name": "ipython",
    "version": 3
   },
   "file_extension": ".py",
   "mimetype": "text/x-python",
   "name": "python",
   "nbconvert_exporter": "python",
   "pygments_lexer": "ipython3",
   "version": "3.8.3"
  }
 },
 "nbformat": 4,
 "nbformat_minor": 2
}
